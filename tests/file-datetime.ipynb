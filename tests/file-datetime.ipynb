{
 "cells": [
  {
   "cell_type": "code",
   "execution_count": 2,
   "id": "0ae128c3",
   "metadata": {},
   "outputs": [],
   "source": [
    "import datetime"
   ]
  },
  {
   "cell_type": "code",
   "execution_count": 3,
   "id": "ddad577e",
   "metadata": {},
   "outputs": [],
   "source": [
    "import subprocess"
   ]
  },
  {
   "cell_type": "markdown",
   "id": "cb1fe9d3",
   "metadata": {},
   "source": [
    "Get git blame"
   ]
  },
  {
   "cell_type": "code",
   "execution_count": 4,
   "id": "f7bb1bdf",
   "metadata": {},
   "outputs": [
    {
     "data": {
      "text/plain": [
       "\"ccf92518 (Maple 2025-05-07 10:56:48 +0800   1) # custom\\nccf92518 (Maple 2025-05-07 10:56:48 +0800   2) \\nccf92518 (Maple 2025-05-07 10:56:48 +0800   3) .hugo_build.lock\\nccf92518 (Maple 2025-05-07 10:56:48 +0800   4) index_files\\nccf92518 (Maple 2025-05-07 10:56:48 +0800   5) public\\nccf92518 (Maple 2025-05-07 10:56:48 +0800   6) \\n^2618b3d (Maple 2025-05-06 16:33:42 +0800   7) # Byte-compiled / optimized / DLL files\\n^2618b3d (Maple 2025-05-06 16:33:42 +0800   8) __pycache__/\\n^2618b3d (Maple 2025-05-06 16:33:42 +0800   9) *.py[cod]\\n^2618b3d (Maple 2025-05-06 16:33:42 +0800  10) *$py.class\\n^2618b3d (Maple 2025-05-06 16:33:42 +0800  11) \\n^2618b3d (Maple 2025-05-06 16:33:42 +0800  12) # C extensions\\n^2618b3d (Maple 2025-05-06 16:33:42 +0800  13) *.so\\n^2618b3d (Maple 2025-05-06 16:33:42 +0800  14) \\n^2618b3d (Maple 2025-05-06 16:33:42 +0800  15) # Distribution / packaging\\n^2618b3d (Maple 2025-05-06 16:33:42 +0800  16) .Python\\n^2618b3d (Maple 2025-05-06 16:33:42 +0800  17) build/\\n^2618b3d (Maple 2025-05-06 16:33:42 +0800  18) develop-eggs/\\n^2618b3d (Maple 2025-05-06 16:33:42 +0800  19) dist/\\n^2618b3d (Maple 2025-05-06 16:33:42 +0800  20) downloads/\\n^2618b3d (Maple 2025-05-06 16:33:42 +0800  21) eggs/\\n^2618b3d (Maple 2025-05-06 16:33:42 +0800  22) .eggs/\\n^2618b3d (Maple 2025-05-06 16:33:42 +0800  23) lib/\\n^2618b3d (Maple 2025-05-06 16:33:42 +0800  24) lib64/\\n^2618b3d (Maple 2025-05-06 16:33:42 +0800  25) parts/\\n^2618b3d (Maple 2025-05-06 16:33:42 +0800  26) sdist/\\n^2618b3d (Maple 2025-05-06 16:33:42 +0800  27) var/\\n^2618b3d (Maple 2025-05-06 16:33:42 +0800  28) wheels/\\n^2618b3d (Maple 2025-05-06 16:33:42 +0800  29) share/python-wheels/\\n^2618b3d (Maple 2025-05-06 16:33:42 +0800  30) *.egg-info/\\n^2618b3d (Maple 2025-05-06 16:33:42 +0800  31) .installed.cfg\\n^2618b3d (Maple 2025-05-06 16:33:42 +0800  32) *.egg\\n^2618b3d (Maple 2025-05-06 16:33:42 +0800  33) MANIFEST\\n^2618b3d (Maple 2025-05-06 16:33:42 +0800  34) \\n^2618b3d (Maple 2025-05-06 16:33:42 +0800  35) # PyInstaller\\n^2618b3d (Maple 2025-05-06 16:33:42 +0800  36) #  Usually these files are written by a python script from a template\\n^2618b3d (Maple 2025-05-06 16:33:42 +0800  37) #  before PyInstaller builds the exe, so as to inject date/other infos into it.\\n^2618b3d (Maple 2025-05-06 16:33:42 +0800  38) *.manifest\\n^2618b3d (Maple 2025-05-06 16:33:42 +0800  39) *.spec\\n^2618b3d (Maple 2025-05-06 16:33:42 +0800  40) \\n^2618b3d (Maple 2025-05-06 16:33:42 +0800  41) # Installer logs\\n^2618b3d (Maple 2025-05-06 16:33:42 +0800  42) pip-log.txt\\n^2618b3d (Maple 2025-05-06 16:33:42 +0800  43) pip-delete-this-directory.txt\\n^2618b3d (Maple 2025-05-06 16:33:42 +0800  44) \\n^2618b3d (Maple 2025-05-06 16:33:42 +0800  45) # Unit test / coverage reports\\n^2618b3d (Maple 2025-05-06 16:33:42 +0800  46) htmlcov/\\n^2618b3d (Maple 2025-05-06 16:33:42 +0800  47) .tox/\\n^2618b3d (Maple 2025-05-06 16:33:42 +0800  48) .nox/\\n^2618b3d (Maple 2025-05-06 16:33:42 +0800  49) .coverage\\n^2618b3d (Maple 2025-05-06 16:33:42 +0800  50) .coverage.*\\n^2618b3d (Maple 2025-05-06 16:33:42 +0800  51) .cache\\n^2618b3d (Maple 2025-05-06 16:33:42 +0800  52) nosetests.xml\\n^2618b3d (Maple 2025-05-06 16:33:42 +0800  53) coverage.xml\\n^2618b3d (Maple 2025-05-06 16:33:42 +0800  54) *.cover\\n^2618b3d (Maple 2025-05-06 16:33:42 +0800  55) *.py,cover\\n^2618b3d (Maple 2025-05-06 16:33:42 +0800  56) .hypothesis/\\n^2618b3d (Maple 2025-05-06 16:33:42 +0800  57) .pytest_cache/\\n^2618b3d (Maple 2025-05-06 16:33:42 +0800  58) cover/\\n^2618b3d (Maple 2025-05-06 16:33:42 +0800  59) \\n^2618b3d (Maple 2025-05-06 16:33:42 +0800  60) # Translations\\n^2618b3d (Maple 2025-05-06 16:33:42 +0800  61) *.mo\\n^2618b3d (Maple 2025-05-06 16:33:42 +0800  62) *.pot\\n^2618b3d (Maple 2025-05-06 16:33:42 +0800  63) \\n^2618b3d (Maple 2025-05-06 16:33:42 +0800  64) # Django stuff:\\n^2618b3d (Maple 2025-05-06 16:33:42 +0800  65) *.log\\n^2618b3d (Maple 2025-05-06 16:33:42 +0800  66) local_settings.py\\n^2618b3d (Maple 2025-05-06 16:33:42 +0800  67) db.sqlite3\\n^2618b3d (Maple 2025-05-06 16:33:42 +0800  68) db.sqlite3-journal\\n^2618b3d (Maple 2025-05-06 16:33:42 +0800  69) \\n^2618b3d (Maple 2025-05-06 16:33:42 +0800  70) # Flask stuff:\\n^2618b3d (Maple 2025-05-06 16:33:42 +0800  71) instance/\\n^2618b3d (Maple 2025-05-06 16:33:42 +0800  72) .webassets-cache\\n^2618b3d (Maple 2025-05-06 16:33:42 +0800  73) \\n^2618b3d (Maple 2025-05-06 16:33:42 +0800  74) # Scrapy stuff:\\n^2618b3d (Maple 2025-05-06 16:33:42 +0800  75) .scrapy\\n^2618b3d (Maple 2025-05-06 16:33:42 +0800  76) \\n^2618b3d (Maple 2025-05-06 16:33:42 +0800  77) # Sphinx documentation\\n^2618b3d (Maple 2025-05-06 16:33:42 +0800  78) docs/_build/\\n^2618b3d (Maple 2025-05-06 16:33:42 +0800  79) \\n^2618b3d (Maple 2025-05-06 16:33:42 +0800  80) # PyBuilder\\n^2618b3d (Maple 2025-05-06 16:33:42 +0800  81) .pybuilder/\\n^2618b3d (Maple 2025-05-06 16:33:42 +0800  82) target/\\n^2618b3d (Maple 2025-05-06 16:33:42 +0800  83) \\n^2618b3d (Maple 2025-05-06 16:33:42 +0800  84) # Jupyter Notebook\\n^2618b3d (Maple 2025-05-06 16:33:42 +0800  85) .ipynb_checkpoints\\n^2618b3d (Maple 2025-05-06 16:33:42 +0800  86) \\n^2618b3d (Maple 2025-05-06 16:33:42 +0800  87) # IPython\\n^2618b3d (Maple 2025-05-06 16:33:42 +0800  88) profile_default/\\n^2618b3d (Maple 2025-05-06 16:33:42 +0800  89) ipython_config.py\\n^2618b3d (Maple 2025-05-06 16:33:42 +0800  90) \\n^2618b3d (Maple 2025-05-06 16:33:42 +0800  91) # pyenv\\n^2618b3d (Maple 2025-05-06 16:33:42 +0800  92) #   For a library or package, you might want to ignore these files since the code is\\n^2618b3d (Maple 2025-05-06 16:33:42 +0800  93) #   intended to run in multiple environments; otherwise, check them in:\\n^2618b3d (Maple 2025-05-06 16:33:42 +0800  94) # .python-version\\n^2618b3d (Maple 2025-05-06 16:33:42 +0800  95) \\n^2618b3d (Maple 2025-05-06 16:33:42 +0800  96) # pipenv\\n^2618b3d (Maple 2025-05-06 16:33:42 +0800  97) #   According to pypa/pipenv#598, it is recommended to include Pipfile.lock in version control.\\n^2618b3d (Maple 2025-05-06 16:33:42 +0800  98) #   However, in case of collaboration, if having platform-specific dependencies or dependencies\\n^2618b3d (Maple 2025-05-06 16:33:42 +0800  99) #   having no cross-platform support, pipenv may install dependencies that don't work, or not\\n^2618b3d (Maple 2025-05-06 16:33:42 +0800 100) #   install all needed dependencies.\\n^2618b3d (Maple 2025-05-06 16:33:42 +0800 101) #Pipfile.lock\\n^2618b3d (Maple 2025-05-06 16:33:42 +0800 102) \\n^2618b3d (Maple 2025-05-06 16:33:42 +0800 103) # poetry\\n^2618b3d (Maple 2025-05-06 16:33:42 +0800 104) #   Similar to Pipfile.lock, it is generally recommended to include poetry.lock in version control.\\n^2618b3d (Maple 2025-05-06 16:33:42 +0800 105) #   This is especially recommended for binary packages to ensure reproducibility, and is more\\n^2618b3d (Maple 2025-05-06 16:33:42 +0800 106) #   commonly ignored for libraries.\\n^2618b3d (Maple 2025-05-06 16:33:42 +0800 107) #   https://python-poetry.org/docs/basic-usage/#commit-your-poetrylock-file-to-version-control\\n^2618b3d (Maple 2025-05-06 16:33:42 +0800 108) #poetry.lock\\n^2618b3d (Maple 2025-05-06 16:33:42 +0800 109) \\n^2618b3d (Maple 2025-05-06 16:33:42 +0800 110) # pdm\\n^2618b3d (Maple 2025-05-06 16:33:42 +0800 111) #   Similar to Pipfile.lock, it is generally recommended to include pdm.lock in version control.\\n^2618b3d (Maple 2025-05-06 16:33:42 +0800 112) #pdm.lock\\n^2618b3d (Maple 2025-05-06 16:33:42 +0800 113) #   pdm stores project-wide configurations in .pdm.toml, but it is recommended to not include it\\n^2618b3d (Maple 2025-05-06 16:33:42 +0800 114) #   in version control.\\n^2618b3d (Maple 2025-05-06 16:33:42 +0800 115) #   https://pdm.fming.dev/#use-with-ide\\n^2618b3d (Maple 2025-05-06 16:33:42 +0800 116) .pdm.toml\\n^2618b3d (Maple 2025-05-06 16:33:42 +0800 117) \\n^2618b3d (Maple 2025-05-06 16:33:42 +0800 118) # PEP 582; used by e.g. github.com/David-OConnor/pyflow and github.com/pdm-project/pdm\\n^2618b3d (Maple 2025-05-06 16:33:42 +0800 119) __pypackages__/\\n^2618b3d (Maple 2025-05-06 16:33:42 +0800 120) \\n^2618b3d (Maple 2025-05-06 16:33:42 +0800 121) # Celery stuff\\n^2618b3d (Maple 2025-05-06 16:33:42 +0800 122) celerybeat-schedule\\n^2618b3d (Maple 2025-05-06 16:33:42 +0800 123) celerybeat.pid\\n^2618b3d (Maple 2025-05-06 16:33:42 +0800 124) \\n^2618b3d (Maple 2025-05-06 16:33:42 +0800 125) # SageMath parsed files\\n^2618b3d (Maple 2025-05-06 16:33:42 +0800 126) *.sage.py\\n^2618b3d (Maple 2025-05-06 16:33:42 +0800 127) \\n^2618b3d (Maple 2025-05-06 16:33:42 +0800 128) # Environments\\n^2618b3d (Maple 2025-05-06 16:33:42 +0800 129) .env\\n^2618b3d (Maple 2025-05-06 16:33:42 +0800 130) .venv\\n^2618b3d (Maple 2025-05-06 16:33:42 +0800 131) env/\\n^2618b3d (Maple 2025-05-06 16:33:42 +0800 132) venv/\\n^2618b3d (Maple 2025-05-06 16:33:42 +0800 133) ENV/\\n^2618b3d (Maple 2025-05-06 16:33:42 +0800 134) env.bak/\\n^2618b3d (Maple 2025-05-06 16:33:42 +0800 135) venv.bak/\\n^2618b3d (Maple 2025-05-06 16:33:42 +0800 136) \\n^2618b3d (Maple 2025-05-06 16:33:42 +0800 137) # Spyder project settings\\n^2618b3d (Maple 2025-05-06 16:33:42 +0800 138) .spyderproject\\n^2618b3d (Maple 2025-05-06 16:33:42 +0800 139) .spyproject\\n^2618b3d (Maple 2025-05-06 16:33:42 +0800 140) \\n^2618b3d (Maple 2025-05-06 16:33:42 +0800 141) # Rope project settings\\n^2618b3d (Maple 2025-05-06 16:33:42 +0800 142) .ropeproject\\n^2618b3d (Maple 2025-05-06 16:33:42 +0800 143) \\n^2618b3d (Maple 2025-05-06 16:33:42 +0800 144) # mkdocs documentation\\n^2618b3d (Maple 2025-05-06 16:33:42 +0800 145) /site\\n^2618b3d (Maple 2025-05-06 16:33:42 +0800 146) \\n^2618b3d (Maple 2025-05-06 16:33:42 +0800 147) # mypy\\n^2618b3d (Maple 2025-05-06 16:33:42 +0800 148) .mypy_cache/\\n^2618b3d (Maple 2025-05-06 16:33:42 +0800 149) .dmypy.json\\n^2618b3d (Maple 2025-05-06 16:33:42 +0800 150) dmypy.json\\n^2618b3d (Maple 2025-05-06 16:33:42 +0800 151) \\n^2618b3d (Maple 2025-05-06 16:33:42 +0800 152) # Pyre type checker\\n^2618b3d (Maple 2025-05-06 16:33:42 +0800 153) .pyre/\\n^2618b3d (Maple 2025-05-06 16:33:42 +0800 154) \\n^2618b3d (Maple 2025-05-06 16:33:42 +0800 155) # pytype static type analyzer\\n^2618b3d (Maple 2025-05-06 16:33:42 +0800 156) .pytype/\\n^2618b3d (Maple 2025-05-06 16:33:42 +0800 157) \\n^2618b3d (Maple 2025-05-06 16:33:42 +0800 158) # Cython debug symbols\\n^2618b3d (Maple 2025-05-06 16:33:42 +0800 159) cython_debug/\\n^2618b3d (Maple 2025-05-06 16:33:42 +0800 160) \\n^2618b3d (Maple 2025-05-06 16:33:42 +0800 161) # PyCharm\\n^2618b3d (Maple 2025-05-06 16:33:42 +0800 162) #  JetBrains specific template is maintained in a separate JetBrains.gitignore that can\\n^2618b3d (Maple 2025-05-06 16:33:42 +0800 163) #  be found at https://github.com/github/gitignore/blob/main/Global/JetBrains.gitignore\\n^2618b3d (Maple 2025-05-06 16:33:42 +0800 164) #  and can be added to the global gitignore or merged into this file.  For a more nuclear\\n^2618b3d (Maple 2025-05-06 16:33:42 +0800 165) #  option (not recommended) you can uncomment the following to ignore the entire idea folder.\\n^2618b3d (Maple 2025-05-06 16:33:42 +0800 166) #.idea/\""
      ]
     },
     "execution_count": 4,
     "metadata": {},
     "output_type": "execute_result"
    }
   ],
   "source": [
    "lines = subprocess.getoutput(\" \".join([\"git\", \"blame\", \"../.gitignore\"]))\n",
    "lines"
   ]
  },
  {
   "cell_type": "markdown",
   "id": "9819bc0a",
   "metadata": {},
   "source": [
    "Find the front lines"
   ]
  },
  {
   "cell_type": "code",
   "execution_count": 5,
   "id": "36e3e9bb",
   "metadata": {},
   "outputs": [
    {
     "data": {
      "text/plain": [
       "['Maple 2025-05-07 10:56:48 +0800   1',\n",
       " 'Maple 2025-05-07 10:56:48 +0800   2',\n",
       " 'Maple 2025-05-07 10:56:48 +0800   3',\n",
       " 'Maple 2025-05-07 10:56:48 +0800   4',\n",
       " 'Maple 2025-05-07 10:56:48 +0800   5',\n",
       " 'Maple 2025-05-07 10:56:48 +0800   6',\n",
       " 'Maple 2025-05-06 16:33:42 +0800   7',\n",
       " 'Maple 2025-05-06 16:33:42 +0800   8',\n",
       " 'Maple 2025-05-06 16:33:42 +0800   9',\n",
       " 'Maple 2025-05-06 16:33:42 +0800  10']"
      ]
     },
     "execution_count": 5,
     "metadata": {},
     "output_type": "execute_result"
    }
   ],
   "source": [
    "import re\n",
    "\n",
    "datetimes = [] \n",
    "for i in lines.split(\"\\n\"):\n",
    "    r = re.findall(r\"[\\^a-z0-9]{8} \\((.*)\\)\", i)\n",
    "    if len(r) >= 1:\n",
    "        datetimes.append(r[0])\n",
    "datetimes[:10]"
   ]
  },
  {
   "cell_type": "markdown",
   "id": "7cafc978",
   "metadata": {},
   "source": [
    "parse the date"
   ]
  },
  {
   "cell_type": "code",
   "execution_count": 6,
   "id": "c9704efa",
   "metadata": {},
   "outputs": [],
   "source": [
    "real_dates = []\n",
    "for i in datetimes:\n",
    "    results = i.split(\" \")\n",
    "    date = results[1]\n",
    "    time = results[2]\n",
    "    timezone = results[3]\n",
    "    real_date = \" \".join([date, time, timezone])\n",
    "    real_date = datetime.datetime.strptime(real_date, \"%Y-%m-%d %H:%M:%S %z\")\n",
    "    real_dates.append(real_date)\n",
    "    # print(real_date)"
   ]
  },
  {
   "cell_type": "markdown",
   "id": "c6889dfa",
   "metadata": {},
   "source": [
    "find min"
   ]
  },
  {
   "cell_type": "code",
   "execution_count": 7,
   "id": "a4bd4437",
   "metadata": {},
   "outputs": [
    {
     "data": {
      "text/plain": [
       "datetime.datetime(2025, 5, 6, 16, 33, 42, tzinfo=datetime.timezone(datetime.timedelta(seconds=28800)))"
      ]
     },
     "execution_count": 7,
     "metadata": {},
     "output_type": "execute_result"
    }
   ],
   "source": [
    "min(real_dates)"
   ]
  },
  {
   "cell_type": "markdown",
   "id": "3a9bdbfe",
   "metadata": {},
   "source": [
    "reformat to hugo"
   ]
  },
  {
   "cell_type": "code",
   "execution_count": 30,
   "id": "20dd10d0",
   "metadata": {},
   "outputs": [
    {
     "data": {
      "text/plain": [
       "'2025-05-06T16:33:42+08:00'"
      ]
     },
     "execution_count": 30,
     "metadata": {},
     "output_type": "execute_result"
    }
   ],
   "source": [
    "datetime.datetime.strftime(min(real_dates), \"%Y-%m-%dT%H:%M:%S+08:00\")"
   ]
  },
  {
   "cell_type": "code",
   "execution_count": null,
   "id": "e9faffc5",
   "metadata": {},
   "outputs": [],
   "source": []
  }
 ],
 "metadata": {
  "kernelspec": {
   "display_name": ".venv",
   "language": "python",
   "name": "python3"
  },
  "language_info": {
   "codemirror_mode": {
    "name": "ipython",
    "version": 3
   },
   "file_extension": ".py",
   "mimetype": "text/x-python",
   "name": "python",
   "nbconvert_exporter": "python",
   "pygments_lexer": "ipython3",
   "version": "3.11.9"
  }
 },
 "nbformat": 4,
 "nbformat_minor": 5
}
