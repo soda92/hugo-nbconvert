{
 "cells": [
  {
   "cell_type": "markdown",
   "id": "ec2a032c",
   "metadata": {},
   "source": [
    "---\n",
    "date: 2024-02-02T04:14:54-08:00\n",
    "draft: false\n",
    "title: Example\n",
    "---"
   ]
  },
  {
   "cell_type": "code",
   "execution_count": 1,
   "id": "8d067373",
   "metadata": {},
   "outputs": [],
   "source": [
    "from datetime import datetime"
   ]
  },
  {
   "cell_type": "code",
   "execution_count": 2,
   "id": "2afcf960",
   "metadata": {},
   "outputs": [
    {
     "data": {
      "text/plain": [
       "datetime.datetime(2025, 5, 7, 10, 12, 22, 871402)"
      ]
     },
     "execution_count": 2,
     "metadata": {},
     "output_type": "execute_result"
    }
   ],
   "source": [
    "datetime.now()"
   ]
  },
  {
   "cell_type": "code",
   "execution_count": 3,
   "id": "af148e23",
   "metadata": {},
   "outputs": [
    {
     "data": {
      "text/plain": [
       "'date: 2024-02-02T04:14:54+08:00'"
      ]
     },
     "execution_count": 3,
     "metadata": {},
     "output_type": "execute_result"
    }
   ],
   "source": [
    "demo = \"date: 2024-02-02T04:14:54+08:00\"\n",
    "demo"
   ]
  },
  {
   "cell_type": "code",
   "execution_count": 4,
   "id": "73ae3347",
   "metadata": {},
   "outputs": [
    {
     "data": {
      "text/plain": [
       "'2025-05-07T10:14:36+08:00'"
      ]
     },
     "execution_count": 4,
     "metadata": {},
     "output_type": "execute_result"
    }
   ],
   "source": [
    "datetime.strftime(datetime.now(), \"%Y-%m-%dT%H:%M:%S+08:00\")"
   ]
  },
  {
   "cell_type": "code",
   "execution_count": 5,
   "id": "7acb62df",
   "metadata": {},
   "outputs": [
    {
     "data": {
      "text/plain": [
       "'Abcd'"
      ]
     },
     "execution_count": 5,
     "metadata": {},
     "output_type": "execute_result"
    }
   ],
   "source": [
    "\"abcd\".title()"
   ]
  },
  {
   "cell_type": "code",
   "execution_count": null,
   "id": "33a4b34c",
   "metadata": {},
   "outputs": [],
   "source": []
  }
 ],
 "metadata": {
  "kernelspec": {
   "display_name": ".venv",
   "language": "python",
   "name": "python3"
  },
  "language_info": {
   "codemirror_mode": {
    "name": "ipython",
    "version": 3
   },
   "file_extension": ".py",
   "mimetype": "text/x-python",
   "name": "python",
   "nbconvert_exporter": "python",
   "pygments_lexer": "ipython3",
   "version": "3.11.9"
  }
 },
 "nbformat": 4,
 "nbformat_minor": 5
}
