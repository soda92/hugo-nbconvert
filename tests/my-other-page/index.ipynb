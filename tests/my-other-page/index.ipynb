
{
 "cells": [
  {
   "cell_type": "markdown",
   "id": "ec2a032c",
   "metadata": {},
   "source": [
    "---\n",
    "date: 2025-05-07T10:27:05+08:00\n",
    "title: My Other Page\n",
    "---"
   ]
  },
  {
   "cell_type": "markdown",
   "id": "8d067373",
   "metadata": {},
   "source": []
  }
 ],
 "metadata": {
  "language_info": {
   "name": "python"
  }
 },
 "nbformat": 4,
 "nbformat_minor": 5
}
