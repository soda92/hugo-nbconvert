{
 "cells": [
  {
   "cell_type": "code",
   "execution_count": 1,
   "id": "0ae128c3",
   "metadata": {},
   "outputs": [],
   "source": [
    "import datetime"
   ]
  },
  {
   "cell_type": "code",
   "execution_count": 2,
   "id": "ddad577e",
   "metadata": {},
   "outputs": [],
   "source": [
    "import subprocess"
   ]
  },
  {
   "cell_type": "markdown",
   "id": "cb1fe9d3",
   "metadata": {},
   "source": [
    "Get git blame"
   ]
  },
  {
   "cell_type": "code",
   "execution_count": null,
   "id": "f7bb1bdf",
   "metadata": {},
   "outputs": [
    {
     "data": {
      "text/plain": [
       "\"ccf92518 (Maple 2025-05-07 10:56:48 +0800   1) # custom\\nccf92518 (Maple 2025-05-07 10:56:48 +0800   2) \\nccf92518 (Maple 2025-05-07 10:56:48 +0800   3) tests/my-other-page/index.md\\nccf92518 (Maple 2025-05-07 10:56:48 +0800   4) tests/my-other-page/index_files\\nccf92518 (Maple 2025-05-07 10:56:48 +0800   5) .hugo_build.lock\\nccf92518 (Maple 2025-05-07 10:56:48 +0800   6) index_files\\nccf92518 (Maple 2025-05-07 10:56:48 +0800   7) public\\nccf92518 (Maple 2025-05-07 10:56:48 +0800   8) \\n^2618b3d (Maple 2025-05-06 16:33:42 +0800   9) # Byte-compiled / optimized / DLL files\\n^2618b3d (Maple 2025-05-06 16:33:42 +0800  10) __pycache__/\\n^2618b3d (Maple 2025-05-06 16:33:42 +0800  11) *.py[cod]\\n^2618b3d (Maple 2025-05-06 16:33:42 +0800  12) *$py.class\\n^2618b3d (Maple 2025-05-06 16:33:42 +0800  13) \\n^2618b3d (Maple 2025-05-06 16:33:42 +0800  14) # C extensions\\n^2618b3d (Maple 2025-05-06 16:33:42 +0800  15) *.so\\n^2618b3d (Maple 2025-05-06 16:33:42 +0800  16) \\n^2618b3d (Maple 2025-05-06 16:33:42 +0800  17) # Distribution / packaging\\n^2618b3d (Maple 2025-05-06 16:33:42 +0800  18) .Python\\n^2618b3d (Maple 2025-05-06 16:33:42 +0800  19) build/\\n^2618b3d (Maple 2025-05-06 16:33:42 +0800  20) develop-eggs/\\n^2618b3d (Maple 2025-05-06 16:33:42 +0800  21) dist/\\n^2618b3d (Maple 2025-05-06 16:33:42 +0800  22) downloads/\\n^2618b3d (Maple 2025-05-06 16:33:42 +0800  23) eggs/\\n^2618b3d (Maple 2025-05-06 16:33:42 +0800  24) .eggs/\\n^2618b3d (Maple 2025-05-06 16:33:42 +0800  25) lib/\\n^2618b3d (Maple 2025-05-06 16:33:42 +0800  26) lib64/\\n^2618b3d (Maple 2025-05-06 16:33:42 +0800  27) parts/\\n^2618b3d (Maple 2025-05-06 16:33:42 +0800  28) sdist/\\n^2618b3d (Maple 2025-05-06 16:33:42 +0800  29) var/\\n^2618b3d (Maple 2025-05-06 16:33:42 +0800  30) wheels/\\n^2618b3d (Maple 2025-05-06 16:33:42 +0800  31) share/python-wheels/\\n^2618b3d (Maple 2025-05-06 16:33:42 +0800  32) *.egg-info/\\n^2618b3d (Maple 2025-05-06 16:33:42 +0800  33) .installed.cfg\\n^2618b3d (Maple 2025-05-06 16:33:42 +0800  34) *.egg\\n^2618b3d (Maple 2025-05-06 16:33:42 +0800  35) MANIFEST\\n^2618b3d (Maple 2025-05-06 16:33:42 +0800  36) \\n^2618b3d (Maple 2025-05-06 16:33:42 +0800  37) # PyInstaller\\n^2618b3d (Maple 2025-05-06 16:33:42 +0800  38) #  Usually these files are written by a python script from a template\\n^2618b3d (Maple 2025-05-06 16:33:42 +0800  39) #  before PyInstaller builds the exe, so as to inject date/other infos into it.\\n^2618b3d (Maple 2025-05-06 16:33:42 +0800  40) *.manifest\\n^2618b3d (Maple 2025-05-06 16:33:42 +0800  41) *.spec\\n^2618b3d (Maple 2025-05-06 16:33:42 +0800  42) \\n^2618b3d (Maple 2025-05-06 16:33:42 +0800  43) # Installer logs\\n^2618b3d (Maple 2025-05-06 16:33:42 +0800  44) pip-log.txt\\n^2618b3d (Maple 2025-05-06 16:33:42 +0800  45) pip-delete-this-directory.txt\\n^2618b3d (Maple 2025-05-06 16:33:42 +0800  46) \\n^2618b3d (Maple 2025-05-06 16:33:42 +0800  47) # Unit test / coverage reports\\n^2618b3d (Maple 2025-05-06 16:33:42 +0800  48) htmlcov/\\n^2618b3d (Maple 2025-05-06 16:33:42 +0800  49) .tox/\\n^2618b3d (Maple 2025-05-06 16:33:42 +0800  50) .nox/\\n^2618b3d (Maple 2025-05-06 16:33:42 +0800  51) .coverage\\n^2618b3d (Maple 2025-05-06 16:33:42 +0800  52) .coverage.*\\n^2618b3d (Maple 2025-05-06 16:33:42 +0800  53) .cache\\n^2618b3d (Maple 2025-05-06 16:33:42 +0800  54) nosetests.xml\\n^2618b3d (Maple 2025-05-06 16:33:42 +0800  55) coverage.xml\\n^2618b3d (Maple 2025-05-06 16:33:42 +0800  56) *.cover\\n^2618b3d (Maple 2025-05-06 16:33:42 +0800  57) *.py,cover\\n^2618b3d (Maple 2025-05-06 16:33:42 +0800  58) .hypothesis/\\n^2618b3d (Maple 2025-05-06 16:33:42 +0800  59) .pytest_cache/\\n^2618b3d (Maple 2025-05-06 16:33:42 +0800  60) cover/\\n^2618b3d (Maple 2025-05-06 16:33:42 +0800  61) \\n^2618b3d (Maple 2025-05-06 16:33:42 +0800  62) # Translations\\n^2618b3d (Maple 2025-05-06 16:33:42 +0800  63) *.mo\\n^2618b3d (Maple 2025-05-06 16:33:42 +0800  64) *.pot\\n^2618b3d (Maple 2025-05-06 16:33:42 +0800  65) \\n^2618b3d (Maple 2025-05-06 16:33:42 +0800  66) # Django stuff:\\n^2618b3d (Maple 2025-05-06 16:33:42 +0800  67) *.log\\n^2618b3d (Maple 2025-05-06 16:33:42 +0800  68) local_settings.py\\n^2618b3d (Maple 2025-05-06 16:33:42 +0800  69) db.sqlite3\\n^2618b3d (Maple 2025-05-06 16:33:42 +0800  70) db.sqlite3-journal\\n^2618b3d (Maple 2025-05-06 16:33:42 +0800  71) \\n^2618b3d (Maple 2025-05-06 16:33:42 +0800  72) # Flask stuff:\\n^2618b3d (Maple 2025-05-06 16:33:42 +0800  73) instance/\\n^2618b3d (Maple 2025-05-06 16:33:42 +0800  74) .webassets-cache\\n^2618b3d (Maple 2025-05-06 16:33:42 +0800  75) \\n^2618b3d (Maple 2025-05-06 16:33:42 +0800  76) # Scrapy stuff:\\n^2618b3d (Maple 2025-05-06 16:33:42 +0800  77) .scrapy\\n^2618b3d (Maple 2025-05-06 16:33:42 +0800  78) \\n^2618b3d (Maple 2025-05-06 16:33:42 +0800  79) # Sphinx documentation\\n^2618b3d (Maple 2025-05-06 16:33:42 +0800  80) docs/_build/\\n^2618b3d (Maple 2025-05-06 16:33:42 +0800  81) \\n^2618b3d (Maple 2025-05-06 16:33:42 +0800  82) # PyBuilder\\n^2618b3d (Maple 2025-05-06 16:33:42 +0800  83) .pybuilder/\\n^2618b3d (Maple 2025-05-06 16:33:42 +0800  84) target/\\n^2618b3d (Maple 2025-05-06 16:33:42 +0800  85) \\n^2618b3d (Maple 2025-05-06 16:33:42 +0800  86) # Jupyter Notebook\\n^2618b3d (Maple 2025-05-06 16:33:42 +0800  87) .ipynb_checkpoints\\n^2618b3d (Maple 2025-05-06 16:33:42 +0800  88) \\n^2618b3d (Maple 2025-05-06 16:33:42 +0800  89) # IPython\\n^2618b3d (Maple 2025-05-06 16:33:42 +0800  90) profile_default/\\n^2618b3d (Maple 2025-05-06 16:33:42 +0800  91) ipython_config.py\\n^2618b3d (Maple 2025-05-06 16:33:42 +0800  92) \\n^2618b3d (Maple 2025-05-06 16:33:42 +0800  93) # pyenv\\n^2618b3d (Maple 2025-05-06 16:33:42 +0800  94) #   For a library or package, you might want to ignore these files since the code is\\n^2618b3d (Maple 2025-05-06 16:33:42 +0800  95) #   intended to run in multiple environments; otherwise, check them in:\\n^2618b3d (Maple 2025-05-06 16:33:42 +0800  96) # .python-version\\n^2618b3d (Maple 2025-05-06 16:33:42 +0800  97) \\n^2618b3d (Maple 2025-05-06 16:33:42 +0800  98) # pipenv\\n^2618b3d (Maple 2025-05-06 16:33:42 +0800  99) #   According to pypa/pipenv#598, it is recommended to include Pipfile.lock in version control.\\n^2618b3d (Maple 2025-05-06 16:33:42 +0800 100) #   However, in case of collaboration, if having platform-specific dependencies or dependencies\\n^2618b3d (Maple 2025-05-06 16:33:42 +0800 101) #   having no cross-platform support, pipenv may install dependencies that don't work, or not\\n^2618b3d (Maple 2025-05-06 16:33:42 +0800 102) #   install all needed dependencies.\\n^2618b3d (Maple 2025-05-06 16:33:42 +0800 103) #Pipfile.lock\\n^2618b3d (Maple 2025-05-06 16:33:42 +0800 104) \\n^2618b3d (Maple 2025-05-06 16:33:42 +0800 105) # poetry\\n^2618b3d (Maple 2025-05-06 16:33:42 +0800 106) #   Similar to Pipfile.lock, it is generally recommended to include poetry.lock in version control.\\n^2618b3d (Maple 2025-05-06 16:33:42 +0800 107) #   This is especially recommended for binary packages to ensure reproducibility, and is more\\n^2618b3d (Maple 2025-05-06 16:33:42 +0800 108) #   commonly ignored for libraries.\\n^2618b3d (Maple 2025-05-06 16:33:42 +0800 109) #   https://python-poetry.org/docs/basic-usage/#commit-your-poetrylock-file-to-version-control\\n^2618b3d (Maple 2025-05-06 16:33:42 +0800 110) #poetry.lock\\n^2618b3d (Maple 2025-05-06 16:33:42 +0800 111) \\n^2618b3d (Maple 2025-05-06 16:33:42 +0800 112) # pdm\\n^2618b3d (Maple 2025-05-06 16:33:42 +0800 113) #   Similar to Pipfile.lock, it is generally recommended to include pdm.lock in version control.\\n^2618b3d (Maple 2025-05-06 16:33:42 +0800 114) #pdm.lock\\n^2618b3d (Maple 2025-05-06 16:33:42 +0800 115) #   pdm stores project-wide configurations in .pdm.toml, but it is recommended to not include it\\n^2618b3d (Maple 2025-05-06 16:33:42 +0800 116) #   in version control.\\n^2618b3d (Maple 2025-05-06 16:33:42 +0800 117) #   https://pdm.fming.dev/#use-with-ide\\n^2618b3d (Maple 2025-05-06 16:33:42 +0800 118) .pdm.toml\\n^2618b3d (Maple 2025-05-06 16:33:42 +0800 119) \\n^2618b3d (Maple 2025-05-06 16:33:42 +0800 120) # PEP 582; used by e.g. github.com/David-OConnor/pyflow and github.com/pdm-project/pdm\\n^2618b3d (Maple 2025-05-06 16:33:42 +0800 121) __pypackages__/\\n^2618b3d (Maple 2025-05-06 16:33:42 +0800 122) \\n^2618b3d (Maple 2025-05-06 16:33:42 +0800 123) # Celery stuff\\n^2618b3d (Maple 2025-05-06 16:33:42 +0800 124) celerybeat-schedule\\n^2618b3d (Maple 2025-05-06 16:33:42 +0800 125) celerybeat.pid\\n^2618b3d (Maple 2025-05-06 16:33:42 +0800 126) \\n^2618b3d (Maple 2025-05-06 16:33:42 +0800 127) # SageMath parsed files\\n^2618b3d (Maple 2025-05-06 16:33:42 +0800 128) *.sage.py\\n^2618b3d (Maple 2025-05-06 16:33:42 +0800 129) \\n^2618b3d (Maple 2025-05-06 16:33:42 +0800 130) # Environments\\n^2618b3d (Maple 2025-05-06 16:33:42 +0800 131) .env\\n^2618b3d (Maple 2025-05-06 16:33:42 +0800 132) .venv\\n^2618b3d (Maple 2025-05-06 16:33:42 +0800 133) env/\\n^2618b3d (Maple 2025-05-06 16:33:42 +0800 134) venv/\\n^2618b3d (Maple 2025-05-06 16:33:42 +0800 135) ENV/\\n^2618b3d (Maple 2025-05-06 16:33:42 +0800 136) env.bak/\\n^2618b3d (Maple 2025-05-06 16:33:42 +0800 137) venv.bak/\\n^2618b3d (Maple 2025-05-06 16:33:42 +0800 138) \\n^2618b3d (Maple 2025-05-06 16:33:42 +0800 139) # Spyder project settings\\n^2618b3d (Maple 2025-05-06 16:33:42 +0800 140) .spyderproject\\n^2618b3d (Maple 2025-05-06 16:33:42 +0800 141) .spyproject\\n^2618b3d (Maple 2025-05-06 16:33:42 +0800 142) \\n^2618b3d (Maple 2025-05-06 16:33:42 +0800 143) # Rope project settings\\n^2618b3d (Maple 2025-05-06 16:33:42 +0800 144) .ropeproject\\n^2618b3d (Maple 2025-05-06 16:33:42 +0800 145) \\n^2618b3d (Maple 2025-05-06 16:33:42 +0800 146) # mkdocs documentation\\n^2618b3d (Maple 2025-05-06 16:33:42 +0800 147) /site\\n^2618b3d (Maple 2025-05-06 16:33:42 +0800 148) \\n^2618b3d (Maple 2025-05-06 16:33:42 +0800 149) # mypy\\n^2618b3d (Maple 2025-05-06 16:33:42 +0800 150) .mypy_cache/\\n^2618b3d (Maple 2025-05-06 16:33:42 +0800 151) .dmypy.json\\n^2618b3d (Maple 2025-05-06 16:33:42 +0800 152) dmypy.json\\n^2618b3d (Maple 2025-05-06 16:33:42 +0800 153) \\n^2618b3d (Maple 2025-05-06 16:33:42 +0800 154) # Pyre type checker\\n^2618b3d (Maple 2025-05-06 16:33:42 +0800 155) .pyre/\\n^2618b3d (Maple 2025-05-06 16:33:42 +0800 156) \\n^2618b3d (Maple 2025-05-06 16:33:42 +0800 157) # pytype static type analyzer\\n^2618b3d (Maple 2025-05-06 16:33:42 +0800 158) .pytype/\\n^2618b3d (Maple 2025-05-06 16:33:42 +0800 159) \\n^2618b3d (Maple 2025-05-06 16:33:42 +0800 160) # Cython debug symbols\\n^2618b3d (Maple 2025-05-06 16:33:42 +0800 161) cython_debug/\\n^2618b3d (Maple 2025-05-06 16:33:42 +0800 162) \\n^2618b3d (Maple 2025-05-06 16:33:42 +0800 163) # PyCharm\\n^2618b3d (Maple 2025-05-06 16:33:42 +0800 164) #  JetBrains specific template is maintained in a separate JetBrains.gitignore that can\\n^2618b3d (Maple 2025-05-06 16:33:42 +0800 165) #  be found at https://github.com/github/gitignore/blob/main/Global/JetBrains.gitignore\\n^2618b3d (Maple 2025-05-06 16:33:42 +0800 166) #  and can be added to the global gitignore or merged into this file.  For a more nuclear\\n^2618b3d (Maple 2025-05-06 16:33:42 +0800 167) #  option (not recommended) you can uncomment the following to ignore the entire idea folder.\\n^2618b3d (Maple 2025-05-06 16:33:42 +0800 168) #.idea/\""
      ]
     },
     "execution_count": 4,
     "metadata": {},
     "output_type": "execute_result"
    }
   ],
   "source": [
    "lines = subprocess.getoutput(\" \".join([\"git\", \"blame\", \"../.gitignore\"]))\n",
    "lines"
   ]
  },
  {
   "cell_type": "markdown",
   "id": "9819bc0a",
   "metadata": {},
   "source": [
    "Find the front lines"
   ]
  },
  {
   "cell_type": "code",
   "execution_count": 27,
   "id": "36e3e9bb",
   "metadata": {},
   "outputs": [
    {
     "data": {
      "text/plain": [
       "['Maple 2025-05-07 10:56:48 +0800   1',\n",
       " 'Maple 2025-05-07 10:56:48 +0800   2',\n",
       " 'Maple 2025-05-07 10:56:48 +0800   3',\n",
       " 'Maple 2025-05-07 10:56:48 +0800   4',\n",
       " 'Maple 2025-05-07 10:56:48 +0800   5',\n",
       " 'Maple 2025-05-07 10:56:48 +0800   6',\n",
       " 'Maple 2025-05-07 10:56:48 +0800   7',\n",
       " 'Maple 2025-05-07 10:56:48 +0800   8',\n",
       " 'Maple 2025-05-06 16:33:42 +0800   9',\n",
       " 'Maple 2025-05-06 16:33:42 +0800  10']"
      ]
     },
     "execution_count": 27,
     "metadata": {},
     "output_type": "execute_result"
    }
   ],
   "source": [
    "import re\n",
    "\n",
    "datetimes = [] \n",
    "for i in lines.split(\"\\n\"):\n",
    "    r = re.findall(r\"[\\^a-z0-9]{8} \\((.*)\\)\", i)\n",
    "    if len(r) >= 1:\n",
    "        datetimes.append(r[0])\n",
    "datetimes[:10]"
   ]
  },
  {
   "cell_type": "markdown",
   "id": "7cafc978",
   "metadata": {},
   "source": [
    "parse the date"
   ]
  },
  {
   "cell_type": "code",
   "execution_count": 28,
   "id": "c9704efa",
   "metadata": {},
   "outputs": [
    {
     "name": "stdout",
     "output_type": "stream",
     "text": [
      "2025-05-07 10:56:48+08:00\n",
      "2025-05-07 10:56:48+08:00\n",
      "2025-05-07 10:56:48+08:00\n",
      "2025-05-07 10:56:48+08:00\n",
      "2025-05-07 10:56:48+08:00\n",
      "2025-05-07 10:56:48+08:00\n",
      "2025-05-07 10:56:48+08:00\n",
      "2025-05-07 10:56:48+08:00\n",
      "2025-05-06 16:33:42+08:00\n",
      "2025-05-06 16:33:42+08:00\n",
      "2025-05-06 16:33:42+08:00\n",
      "2025-05-06 16:33:42+08:00\n",
      "2025-05-06 16:33:42+08:00\n",
      "2025-05-06 16:33:42+08:00\n",
      "2025-05-06 16:33:42+08:00\n",
      "2025-05-06 16:33:42+08:00\n",
      "2025-05-06 16:33:42+08:00\n",
      "2025-05-06 16:33:42+08:00\n",
      "2025-05-06 16:33:42+08:00\n",
      "2025-05-06 16:33:42+08:00\n",
      "2025-05-06 16:33:42+08:00\n",
      "2025-05-06 16:33:42+08:00\n",
      "2025-05-06 16:33:42+08:00\n",
      "2025-05-06 16:33:42+08:00\n",
      "2025-05-06 16:33:42+08:00\n",
      "2025-05-06 16:33:42+08:00\n",
      "2025-05-06 16:33:42+08:00\n",
      "2025-05-06 16:33:42+08:00\n",
      "2025-05-06 16:33:42+08:00\n",
      "2025-05-06 16:33:42+08:00\n",
      "2025-05-06 16:33:42+08:00\n",
      "2025-05-06 16:33:42+08:00\n",
      "2025-05-06 16:33:42+08:00\n",
      "2025-05-06 16:33:42+08:00\n",
      "2025-05-06 16:33:42+08:00\n",
      "2025-05-06 16:33:42+08:00\n",
      "2025-05-06 16:33:42+08:00\n",
      "2025-05-06 16:33:42+08:00\n",
      "2025-05-06 16:33:42+08:00\n",
      "2025-05-06 16:33:42+08:00\n",
      "2025-05-06 16:33:42+08:00\n",
      "2025-05-06 16:33:42+08:00\n",
      "2025-05-06 16:33:42+08:00\n",
      "2025-05-06 16:33:42+08:00\n",
      "2025-05-06 16:33:42+08:00\n",
      "2025-05-06 16:33:42+08:00\n",
      "2025-05-06 16:33:42+08:00\n",
      "2025-05-06 16:33:42+08:00\n",
      "2025-05-06 16:33:42+08:00\n",
      "2025-05-06 16:33:42+08:00\n",
      "2025-05-06 16:33:42+08:00\n",
      "2025-05-06 16:33:42+08:00\n",
      "2025-05-06 16:33:42+08:00\n",
      "2025-05-06 16:33:42+08:00\n",
      "2025-05-06 16:33:42+08:00\n",
      "2025-05-06 16:33:42+08:00\n",
      "2025-05-06 16:33:42+08:00\n",
      "2025-05-06 16:33:42+08:00\n",
      "2025-05-06 16:33:42+08:00\n",
      "2025-05-06 16:33:42+08:00\n",
      "2025-05-06 16:33:42+08:00\n",
      "2025-05-06 16:33:42+08:00\n",
      "2025-05-06 16:33:42+08:00\n",
      "2025-05-06 16:33:42+08:00\n",
      "2025-05-06 16:33:42+08:00\n",
      "2025-05-06 16:33:42+08:00\n",
      "2025-05-06 16:33:42+08:00\n",
      "2025-05-06 16:33:42+08:00\n",
      "2025-05-06 16:33:42+08:00\n",
      "2025-05-06 16:33:42+08:00\n",
      "2025-05-06 16:33:42+08:00\n",
      "2025-05-06 16:33:42+08:00\n",
      "2025-05-06 16:33:42+08:00\n",
      "2025-05-06 16:33:42+08:00\n",
      "2025-05-06 16:33:42+08:00\n",
      "2025-05-06 16:33:42+08:00\n",
      "2025-05-06 16:33:42+08:00\n",
      "2025-05-06 16:33:42+08:00\n",
      "2025-05-06 16:33:42+08:00\n",
      "2025-05-06 16:33:42+08:00\n",
      "2025-05-06 16:33:42+08:00\n",
      "2025-05-06 16:33:42+08:00\n",
      "2025-05-06 16:33:42+08:00\n",
      "2025-05-06 16:33:42+08:00\n",
      "2025-05-06 16:33:42+08:00\n",
      "2025-05-06 16:33:42+08:00\n",
      "2025-05-06 16:33:42+08:00\n",
      "2025-05-06 16:33:42+08:00\n",
      "2025-05-06 16:33:42+08:00\n",
      "2025-05-06 16:33:42+08:00\n",
      "2025-05-06 16:33:42+08:00\n",
      "2025-05-06 16:33:42+08:00\n",
      "2025-05-06 16:33:42+08:00\n",
      "2025-05-06 16:33:42+08:00\n",
      "2025-05-06 16:33:42+08:00\n",
      "2025-05-06 16:33:42+08:00\n",
      "2025-05-06 16:33:42+08:00\n",
      "2025-05-06 16:33:42+08:00\n",
      "2025-05-06 16:33:42+08:00\n",
      "2025-05-06 16:33:42+08:00\n",
      "2025-05-06 16:33:42+08:00\n",
      "2025-05-06 16:33:42+08:00\n",
      "2025-05-06 16:33:42+08:00\n",
      "2025-05-06 16:33:42+08:00\n",
      "2025-05-06 16:33:42+08:00\n",
      "2025-05-06 16:33:42+08:00\n",
      "2025-05-06 16:33:42+08:00\n",
      "2025-05-06 16:33:42+08:00\n",
      "2025-05-06 16:33:42+08:00\n",
      "2025-05-06 16:33:42+08:00\n",
      "2025-05-06 16:33:42+08:00\n",
      "2025-05-06 16:33:42+08:00\n",
      "2025-05-06 16:33:42+08:00\n",
      "2025-05-06 16:33:42+08:00\n",
      "2025-05-06 16:33:42+08:00\n",
      "2025-05-06 16:33:42+08:00\n",
      "2025-05-06 16:33:42+08:00\n",
      "2025-05-06 16:33:42+08:00\n",
      "2025-05-06 16:33:42+08:00\n",
      "2025-05-06 16:33:42+08:00\n",
      "2025-05-06 16:33:42+08:00\n",
      "2025-05-06 16:33:42+08:00\n",
      "2025-05-06 16:33:42+08:00\n",
      "2025-05-06 16:33:42+08:00\n",
      "2025-05-06 16:33:42+08:00\n",
      "2025-05-06 16:33:42+08:00\n",
      "2025-05-06 16:33:42+08:00\n",
      "2025-05-06 16:33:42+08:00\n",
      "2025-05-06 16:33:42+08:00\n",
      "2025-05-06 16:33:42+08:00\n",
      "2025-05-06 16:33:42+08:00\n",
      "2025-05-06 16:33:42+08:00\n",
      "2025-05-06 16:33:42+08:00\n",
      "2025-05-06 16:33:42+08:00\n",
      "2025-05-06 16:33:42+08:00\n",
      "2025-05-06 16:33:42+08:00\n",
      "2025-05-06 16:33:42+08:00\n",
      "2025-05-06 16:33:42+08:00\n",
      "2025-05-06 16:33:42+08:00\n",
      "2025-05-06 16:33:42+08:00\n",
      "2025-05-06 16:33:42+08:00\n",
      "2025-05-06 16:33:42+08:00\n",
      "2025-05-06 16:33:42+08:00\n",
      "2025-05-06 16:33:42+08:00\n",
      "2025-05-06 16:33:42+08:00\n",
      "2025-05-06 16:33:42+08:00\n",
      "2025-05-06 16:33:42+08:00\n",
      "2025-05-06 16:33:42+08:00\n",
      "2025-05-06 16:33:42+08:00\n",
      "2025-05-06 16:33:42+08:00\n",
      "2025-05-06 16:33:42+08:00\n",
      "2025-05-06 16:33:42+08:00\n",
      "2025-05-06 16:33:42+08:00\n",
      "2025-05-06 16:33:42+08:00\n",
      "2025-05-06 16:33:42+08:00\n",
      "2025-05-06 16:33:42+08:00\n",
      "2025-05-06 16:33:42+08:00\n",
      "2025-05-06 16:33:42+08:00\n",
      "2025-05-06 16:33:42+08:00\n",
      "2025-05-06 16:33:42+08:00\n",
      "2025-05-06 16:33:42+08:00\n",
      "2025-05-06 16:33:42+08:00\n",
      "2025-05-06 16:33:42+08:00\n",
      "2025-05-06 16:33:42+08:00\n",
      "2025-05-06 16:33:42+08:00\n",
      "2025-05-06 16:33:42+08:00\n",
      "2025-05-06 16:33:42+08:00\n",
      "2025-05-06 16:33:42+08:00\n"
     ]
    }
   ],
   "source": [
    "real_dates = []\n",
    "for i in datetimes:\n",
    "    results = i.split(\" \")\n",
    "    date = results[1]\n",
    "    time = results[2]\n",
    "    timezone = results[3]\n",
    "    real_date = \" \".join([date, time, timezone])\n",
    "    real_date = datetime.datetime.strptime(real_date, \"%Y-%m-%d %H:%M:%S %z\")\n",
    "    real_dates.append(real_date)\n",
    "    print(real_date)"
   ]
  },
  {
   "cell_type": "markdown",
   "id": "c6889dfa",
   "metadata": {},
   "source": [
    "find min"
   ]
  },
  {
   "cell_type": "code",
   "execution_count": 29,
   "id": "a4bd4437",
   "metadata": {},
   "outputs": [
    {
     "data": {
      "text/plain": [
       "datetime.datetime(2025, 5, 6, 16, 33, 42, tzinfo=datetime.timezone(datetime.timedelta(seconds=28800)))"
      ]
     },
     "execution_count": 29,
     "metadata": {},
     "output_type": "execute_result"
    }
   ],
   "source": [
    "min(real_dates)"
   ]
  },
  {
   "cell_type": "markdown",
   "id": "3a9bdbfe",
   "metadata": {},
   "source": [
    "reformat to hugo"
   ]
  },
  {
   "cell_type": "code",
   "execution_count": 30,
   "id": "20dd10d0",
   "metadata": {},
   "outputs": [
    {
     "data": {
      "text/plain": [
       "'2025-05-06T16:33:42+08:00'"
      ]
     },
     "execution_count": 30,
     "metadata": {},
     "output_type": "execute_result"
    }
   ],
   "source": [
    "datetime.datetime.strftime(min(real_dates), \"%Y-%m-%dT%H:%M:%S+08:00\")"
   ]
  },
  {
   "cell_type": "code",
   "execution_count": null,
   "id": "e9faffc5",
   "metadata": {},
   "outputs": [],
   "source": []
  }
 ],
 "metadata": {
  "kernelspec": {
   "display_name": ".venv",
   "language": "python",
   "name": "python3"
  },
  "language_info": {
   "codemirror_mode": {
    "name": "ipython",
    "version": 3
   },
   "file_extension": ".py",
   "mimetype": "text/x-python",
   "name": "python",
   "nbconvert_exporter": "python",
   "pygments_lexer": "ipython3",
   "version": "3.11.9"
  }
 },
 "nbformat": 4,
 "nbformat_minor": 5
}
