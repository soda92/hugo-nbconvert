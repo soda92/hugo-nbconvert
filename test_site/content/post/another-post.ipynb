{
 "cells": [
  {
   "cell_type": "markdown",
   "id": "ec2a032c",
   "metadata": {},
   "source": [
    "---\n",
    "date: 2025-05-07T12:41:25+08:00\n",
    "title: Another Post\n",
    "---"
   ]
  },
  {
   "cell_type": "code",
   "execution_count": 15,
   "id": "f95e4b62",
   "metadata": {},
   "outputs": [
    {
     "name": "stdout",
     "output_type": "stream",
     "text": [
      "0\n",
      "1\n",
      "2\n",
      "3\n",
      "4\n",
      "5\n",
      "6\n",
      "7\n",
      "8\n",
      "9\n"
     ]
    }
   ],
   "source": [
    "for i in range(10):\n",
    "    print(i)"
   ]
  },
  {
   "cell_type": "code",
   "execution_count": 14,
   "id": "2d61623e",
   "metadata": {},
   "outputs": [],
   "source": [
    "sadf=1"
   ]
  },
  {
   "cell_type": "code",
   "execution_count": null,
   "id": "24e8db9b",
   "metadata": {},
   "outputs": [],
   "source": []
  }
 ],
 "metadata": {
  "kernelspec": {
   "display_name": ".venv",
   "language": "python",
   "name": "python3"
  },
  "language_info": {
   "codemirror_mode": {
    "name": "ipython",
    "version": 3
   },
   "file_extension": ".py",
   "mimetype": "text/x-python",
   "name": "python",
   "nbconvert_exporter": "python",
   "pygments_lexer": "ipython3",
   "version": "3.11.9"
  }
 },
 "nbformat": 4,
 "nbformat_minor": 5
}
